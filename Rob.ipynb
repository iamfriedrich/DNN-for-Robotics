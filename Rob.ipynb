{
 "cells": [
  {
   "cell_type": "markdown",
   "id": "82017ed6",
   "metadata": {},
   "source": [
    "# <center>Robotics Coursework - Convolutional Neural Networks</center>"
   ]
  },
  {
   "cell_type": "markdown",
   "id": "a2274a66",
   "metadata": {},
   "source": [
    "# 1: Load New Dataset"
   ]
  },
  {
   "cell_type": "code",
   "execution_count": 3,
   "id": "11424cc5",
   "metadata": {},
   "outputs": [],
   "source": [
    "# importing of modules for LeNet CNN\n",
    "from tensorflow.keras import backend as K\n",
    "from tensorflow.keras.models import Sequential\n",
    "from tensorflow.keras.layers import Conv2D\n",
    "from tensorflow.keras.layers import MaxPooling2D\n",
    "from tensorflow.keras.layers import Activation\n",
    "from tensorflow.keras.layers import Flatten\n",
    "from tensorflow.keras.layers import Dense\n",
    "from tensorflow.keras.datasets import mnist\n",
    "from tensorflow.keras import utils\n",
    "from tensorflow.keras.optimizers.legacy import SGD, RMSprop, Adam\n",
    "\n",
    "# importing of service libraries\n",
    "import numpy as np\n",
    "import matplotlib.pyplot as plt"
   ]
  },
  {
   "cell_type": "code",
   "execution_count": 4,
   "id": "73b4d4e3",
   "metadata": {},
   "outputs": [],
   "source": [
    "from tensorflow.keras.datasets import cifar10\n",
    "import tensorflow as tf\n",
    "\n",
    "# Load dataset\n",
    "(x, y_indices), (x_test, y_test_indices) = tf.keras.datasets.cifar10.load_data()"
   ]
  },
  {
   "cell_type": "code",
   "execution_count": 5,
   "id": "88ef35c5",
   "metadata": {},
   "outputs": [],
   "source": [
    "# Flatten y_indices to 1D array if necessary\n",
    "y_indices = y_indices.flatten()\n",
    "y_test_indices = y_test_indices.flatten()"
   ]
  },
  {
   "cell_type": "markdown",
   "id": "16379d9e",
   "metadata": {},
   "source": [
    "# 2: Data Preparation"
   ]
  },
  {
   "cell_type": "code",
   "execution_count": 6,
   "id": "2bd655d3",
   "metadata": {},
   "outputs": [],
   "source": [
    "# Split the dataset into training and validation sets\n",
    "from sklearn.model_selection import train_test_split\n",
    "x_train, x_val, y_train_indices, y_val_indices = train_test_split(x, y_indices, test_size=0.2, random_state=42)"
   ]
  },
  {
   "cell_type": "code",
   "execution_count": 7,
   "id": "0e26a124",
   "metadata": {},
   "outputs": [],
   "source": [
    "# One-hot encode the labels\n",
    "from tensorflow.keras.utils import to_categorical\n",
    "y_train_one_hot = to_categorical(y_train_indices, num_classes=10)\n",
    "y_val_one_hot = to_categorical(y_val_indices, num_classes=10)"
   ]
  },
  {
   "cell_type": "code",
   "execution_count": 8,
   "id": "c7a33d96",
   "metadata": {},
   "outputs": [],
   "source": [
    "from tensorflow.keras.preprocessing.image import ImageDataGenerator\n",
    "\n",
    "# Create an instance of ImageDataGenerator\n",
    "datagen = ImageDataGenerator(\n",
    "    rotation_range=20,\n",
    "    width_shift_range=0.2,\n",
    "    height_shift_range=0.2,\n",
    "    horizontal_flip=True)\n",
    "\n",
    "# Fit the generator to your training data\n",
    "datagen.fit(x_train)"
   ]
  },
  {
   "cell_type": "code",
   "execution_count": 9,
   "id": "1607a338",
   "metadata": {},
   "outputs": [],
   "source": [
    "# Create TensorFlow datasets for training and validation\n",
    "train_dataset = tf.data.Dataset.from_tensor_slices((x_train, y_train_one_hot)).shuffle(buffer_size=1024).batch(32)\n",
    "val_dataset = tf.data.Dataset.from_tensor_slices((x_val, y_val_one_hot)).batch(32)"
   ]
  },
  {
   "cell_type": "markdown",
   "id": "e006e35f",
   "metadata": {},
   "source": [
    "# 3: Model Setting up and Training"
   ]
  },
  {
   "cell_type": "code",
   "execution_count": 10,
   "id": "900209e1",
   "metadata": {},
   "outputs": [],
   "source": [
    "from tensorflow.keras.layers import Dropout\n",
    "from tensorflow.keras.layers import BatchNormalization\n",
    "from tensorflow.keras.optimizers.schedules import ExponentialDecay\n",
    "\n",
    "# Define the learning rate schedule\n",
    "lr_schedule = ExponentialDecay(\n",
    "    initial_learning_rate=0.001,\n",
    "    decay_steps=1000,\n",
    "    decay_rate=0.96,\n",
    "    staircase=True)\n",
    "\n",
    "# Initialize the optimizer with the learning rate schedule\n",
    "optimizer = Adam(learning_rate=lr_schedule)\n",
    "\n",
    "model = Sequential([\n",
    "    Conv2D(32, (3, 3), activation='relu', input_shape=(32, 32, 3)),\n",
    "    BatchNormalization(),\n",
    "    MaxPooling2D((2, 2)),\n",
    "    Conv2D(64, (3, 3), activation='relu'),\n",
    "    BatchNormalization(),\n",
    "    MaxPooling2D((2, 2)),\n",
    "    Conv2D(128, (3, 3), activation='relu'),\n",
    "    BatchNormalization(),\n",
    "    Flatten(),\n",
    "    Dense(128, activation='relu'),\n",
    "    Dropout(0.5),\n",
    "    Dense(10, activation='softmax')\n",
    "])"
   ]
  },
  {
   "cell_type": "code",
   "execution_count": 11,
   "id": "83b04169",
   "metadata": {},
   "outputs": [
    {
     "name": "stdout",
     "output_type": "stream",
     "text": [
      "Model: \"sequential\"\n",
      "_________________________________________________________________\n",
      " Layer (type)                Output Shape              Param #   \n",
      "=================================================================\n",
      " conv2d (Conv2D)             (None, 30, 30, 32)        896       \n",
      "                                                                 \n",
      " batch_normalization (Batch  (None, 30, 30, 32)        128       \n",
      " Normalization)                                                  \n",
      "                                                                 \n",
      " max_pooling2d (MaxPooling2  (None, 15, 15, 32)        0         \n",
      " D)                                                              \n",
      "                                                                 \n",
      " conv2d_1 (Conv2D)           (None, 13, 13, 64)        18496     \n",
      "                                                                 \n",
      " batch_normalization_1 (Bat  (None, 13, 13, 64)        256       \n",
      " chNormalization)                                                \n",
      "                                                                 \n",
      " max_pooling2d_1 (MaxPoolin  (None, 6, 6, 64)          0         \n",
      " g2D)                                                            \n",
      "                                                                 \n",
      " conv2d_2 (Conv2D)           (None, 4, 4, 128)         73856     \n",
      "                                                                 \n",
      " batch_normalization_2 (Bat  (None, 4, 4, 128)         512       \n",
      " chNormalization)                                                \n",
      "                                                                 \n",
      " flatten (Flatten)           (None, 2048)              0         \n",
      "                                                                 \n",
      " dense (Dense)               (None, 128)               262272    \n",
      "                                                                 \n",
      " dropout (Dropout)           (None, 128)               0         \n",
      "                                                                 \n",
      " dense_1 (Dense)             (None, 10)                1290      \n",
      "                                                                 \n",
      "=================================================================\n",
      "Total params: 357706 (1.36 MB)\n",
      "Trainable params: 357258 (1.36 MB)\n",
      "Non-trainable params: 448 (1.75 KB)\n",
      "_________________________________________________________________\n"
     ]
    }
   ],
   "source": [
    "model.compile(optimizer=optimizer, loss='categorical_crossentropy', metrics=['accuracy'])\n",
    "model.summary()"
   ]
  },
  {
   "cell_type": "code",
   "execution_count": 12,
   "id": "3b27e65a",
   "metadata": {},
   "outputs": [
    {
     "name": "stdout",
     "output_type": "stream",
     "text": [
      "Epoch 1/10\n",
      "1250/1250 [==============================] - 78s 62ms/step - loss: 1.9400 - accuracy: 0.3341 - val_loss: 1.5167 - val_accuracy: 0.4659\n",
      "Epoch 2/10\n",
      "1250/1250 [==============================] - 79s 63ms/step - loss: 1.5768 - accuracy: 0.4284 - val_loss: 1.3856 - val_accuracy: 0.4865\n",
      "Epoch 3/10\n",
      "1250/1250 [==============================] - 79s 63ms/step - loss: 1.4527 - accuracy: 0.4785 - val_loss: 2.5643 - val_accuracy: 0.3121\n",
      "Epoch 4/10\n",
      "1250/1250 [==============================] - 82s 65ms/step - loss: 1.3675 - accuracy: 0.5160 - val_loss: 1.3411 - val_accuracy: 0.5460\n",
      "Epoch 5/10\n",
      "1250/1250 [==============================] - 80s 64ms/step - loss: 1.2917 - accuracy: 0.5413 - val_loss: 1.4462 - val_accuracy: 0.5215\n",
      "Epoch 6/10\n",
      "1250/1250 [==============================] - 80s 64ms/step - loss: 1.2382 - accuracy: 0.5634 - val_loss: 1.2434 - val_accuracy: 0.5661\n",
      "Epoch 7/10\n",
      "1250/1250 [==============================] - 80s 64ms/step - loss: 1.1867 - accuracy: 0.5856 - val_loss: 1.2842 - val_accuracy: 0.5621\n",
      "Epoch 8/10\n",
      "1250/1250 [==============================] - 80s 64ms/step - loss: 1.1424 - accuracy: 0.6003 - val_loss: 1.1422 - val_accuracy: 0.6080\n",
      "Epoch 9/10\n",
      "1250/1250 [==============================] - 82s 66ms/step - loss: 1.1148 - accuracy: 0.6113 - val_loss: 1.2060 - val_accuracy: 0.6036\n",
      "Epoch 10/10\n",
      "1250/1250 [==============================] - 82s 65ms/step - loss: 1.0948 - accuracy: 0.6210 - val_loss: 0.8657 - val_accuracy: 0.6900\n"
     ]
    }
   ],
   "source": [
    "history = model.fit(datagen.flow(x_train, y_train_one_hot, batch_size=32), epochs=10, validation_data=(x_val, y_val_one_hot))"
   ]
  },
  {
   "cell_type": "code",
   "execution_count": 13,
   "id": "aa4af6b3",
   "metadata": {},
   "outputs": [
    {
     "data": {
      "image/png": "[encoded data removed]",
      "text/plain": [
       "<Figure size 432x288 with 1 Axes>"
      ]
     },
     "metadata": {
      "needs_background": "light"
     },
     "output_type": "display_data"
    },
    {
     "data": {
      "image/png": "[encoded data removed]",
      "text/plain": [
       "<Figure size 432x288 with 1 Axes>"
      ]
     },
     "metadata": {
      "needs_background": "light"
     },
     "output_type": "display_data"
    }
   ],
   "source": [
    "# Plot training & validation accuracy values\n",
    "plt.plot(history.history['accuracy'])\n",
    "plt.plot(history.history['val_accuracy'])\n",
    "plt.title('Model accuracy')\n",
    "plt.ylabel('Accuracy')\n",
    "plt.xlabel('Epoch')\n",
    "plt.legend(['Train', 'Validation'], loc='upper left')\n",
    "plt.show()\n",
    "\n",
    "# Plot training & validation loss values\n",
    "plt.plot(history.history['loss'])\n",
    "plt.plot(history.history['val_loss'])\n",
    "plt.title('Model loss')\n",
    "plt.ylabel('Loss')\n",
    "plt.xlabel('Epoch')\n",
    "plt.legend(['Train', 'Validation'], loc='upper left')\n",
    "plt.show()"
   ]
  },
  {
   "cell_type": "code",
   "execution_count": 14,
   "id": "dac2eff8",
   "metadata": {},
   "outputs": [
    {
     "name": "stdout",
     "output_type": "stream",
     "text": [
      "313/313 [==============================] - 4s 12ms/step\n",
      "Shape of predicted classes: (10000,)\n",
      "Shape of true classes: (10000,)\n",
      "[[776  45  78   9   6   3  16  13  29  25]\n",
      " [ 10 914   7   4   1   3  14   1   7  39]\n",
      " [ 85   7 664  23  45  53 100   9   6   8]\n",
      " [ 21  16 114 379  62 178 189  17   9  15]\n",
      " [ 37   5 150  31 597  19 120  35   4   2]\n",
      " [ 12   7  90 117  47 641  51  24   4   7]\n",
      " [  3   4  74  19  13  11 872   1   1   2]\n",
      " [ 29   6  79  28 100  94  33 615   0  16]\n",
      " [130  62  28   8   9   6  16   1 714  26]\n",
      " [ 37 144  13   3   6   4  24   5  11 753]]\n",
      "              precision    recall  f1-score   support\n",
      "\n",
      "           0       0.68      0.78      0.73      1000\n",
      "           1       0.76      0.91      0.83      1000\n",
      "           2       0.51      0.66      0.58      1000\n",
      "           3       0.61      0.38      0.47      1000\n",
      "           4       0.67      0.60      0.63      1000\n",
      "           5       0.63      0.64      0.64      1000\n",
      "           6       0.61      0.87      0.72      1000\n",
      "           7       0.85      0.61      0.71      1000\n",
      "           8       0.91      0.71      0.80      1000\n",
      "           9       0.84      0.75      0.80      1000\n",
      "\n",
      "    accuracy                           0.69     10000\n",
      "   macro avg       0.71      0.69      0.69     10000\n",
      "weighted avg       0.71      0.69      0.69     10000\n",
      "\n"
     ]
    }
   ],
   "source": [
    "from sklearn.metrics import classification_report, confusion_matrix\n",
    "\n",
    "y_true = y_test_indices\n",
    "\n",
    "# Predictions from the model\n",
    "y_pred = model.predict(x_test)\n",
    "y_pred_classes = np.argmax(y_pred, axis=1)  # Getting the index of the max logit to get the predicted class\n",
    "\n",
    "# Print shapes to confirm alignment\n",
    "print(\"Shape of predicted classes:\", y_pred_classes.shape)\n",
    "print(\"Shape of true classes:\", y_true.shape)\n",
    "\n",
    "# Confusion matrix and classification report\n",
    "from sklearn.metrics import confusion_matrix, classification_report\n",
    "\n",
    "print(confusion_matrix(y_true, y_pred_classes))\n",
    "print(classification_report(y_true, y_pred_classes))"
   ]
  },
  {
   "cell_type": "code",
   "execution_count": null,
   "id": "6ff0ce2f",
   "metadata": {},
   "outputs": [],
   "source": []
  }
 ],
 "metadata": {
  "kernelspec": {
   "display_name": "Python 3 (ipykernel)",
   "language": "python",
   "name": "python3"
  },
  "language_info": {
   "codemirror_mode": {
    "name": "ipython",
    "version": 3
   },
   "file_extension": ".py",
   "mimetype": "text/x-python",
   "name": "python",
   "nbconvert_exporter": "python",
   "pygments_lexer": "ipython3",
   "version": "3.8.10"
  }
 },
 "nbformat": 4,
 "nbformat_minor": 5
}
